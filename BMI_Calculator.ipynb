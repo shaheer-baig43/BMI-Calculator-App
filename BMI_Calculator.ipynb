{
  "nbformat": 4,
  "nbformat_minor": 0,
  "metadata": {
    "colab": {
      "provenance": [],
      "authorship_tag": "ABX9TyP5ljNlpIkVgmqh2kRZ4s1B",
      "include_colab_link": true
    },
    "kernelspec": {
      "name": "python3",
      "display_name": "Python 3"
    },
    "language_info": {
      "name": "python"
    }
  },
  "cells": [
    {
      "cell_type": "markdown",
      "metadata": {
        "id": "view-in-github",
        "colab_type": "text"
      },
      "source": [
        "<a href=\"https://colab.research.google.com/github/shaheer-baig43/BMI-Calculator-App/blob/main/BMI_Calculator.ipynb\" target=\"_parent\"><img src=\"https://colab.research.google.com/assets/colab-badge.svg\" alt=\"Open In Colab\"/></a>"
      ]
    },
    {
      "cell_type": "code",
      "execution_count": null,
      "metadata": {
        "id": "xemIEs2zJUS2"
      },
      "outputs": [],
      "source": []
    },
    {
      "cell_type": "markdown",
      "source": [
        "**Project 8: BMI Calculator**"
      ],
      "metadata": {
        "id": "43DcKsZLJXF7"
      }
    },
    {
      "cell_type": "code",
      "source": [
        "import streamlit as st\n",
        "import pandas as pd\n",
        "\n",
        "st.title('BMI calculator created by Shaheer')\n",
        "\n",
        "\n",
        "height = st.slider('Enter your Height (in cm): ', 100, 250, 175)\n",
        "weight = st.slider('Enter your Weight (in kg): ', 30, 200, 70)\n",
        "\n",
        "bmi = weight/(height/100) ** 2\n",
        "\n",
        "\n",
        "st.write(f'Your BMI is: {bmi:.2f}')\n",
        "\n",
        "st.write('### BMI Categories ###')\n",
        "\n",
        "st.write('- Underweight: BMI less than 18.5')\n",
        "st.write('- Normal weight: BMI between 18.5 and 24.9')\n",
        "st.write('- Overweight: BMI between 25 and 29.9')\n",
        "st.write('- Obesity: BMI of 30 or more')\n",
        "\n"
      ],
      "metadata": {
        "id": "sGXGOc-kJdsR"
      },
      "execution_count": null,
      "outputs": []
    }
  ]
}